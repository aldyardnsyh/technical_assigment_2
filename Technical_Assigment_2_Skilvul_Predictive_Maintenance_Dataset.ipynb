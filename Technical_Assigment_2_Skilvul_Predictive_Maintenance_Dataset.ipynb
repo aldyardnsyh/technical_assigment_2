{
  "nbformat": 4,
  "nbformat_minor": 0,
  "metadata": {
    "colab": {
      "provenance": []
    },
    "kernelspec": {
      "name": "python3",
      "display_name": "Python 3"
    },
    "language_info": {
      "name": "python"
    }
  },
  "cells": [
    {
      "cell_type": "markdown",
      "source": [
        "Tugas Technical Assigment 2 - Stage 3 - SIC Batch 5 - AI & IoT Bootcamp"
      ],
      "metadata": {
        "id": "We0cwapM2RX1"
      }
    },
    {
      "cell_type": "code",
      "execution_count": 2,
      "metadata": {
        "colab": {
          "base_uri": "https://localhost:8080/"
        },
        "id": "LNm5tmJR_fa-",
        "outputId": "cf22a6c4-f276-414e-efad-3cce6486ba45"
      },
      "outputs": [
        {
          "output_type": "stream",
          "name": "stdout",
          "text": [
            "Collecting ucimlrepo\n",
            "  Downloading ucimlrepo-0.0.7-py3-none-any.whl (8.0 kB)\n",
            "Requirement already satisfied: pandas>=1.0.0 in /usr/local/lib/python3.10/dist-packages (from ucimlrepo) (2.0.3)\n",
            "Requirement already satisfied: certifi>=2020.12.5 in /usr/local/lib/python3.10/dist-packages (from ucimlrepo) (2024.6.2)\n",
            "Requirement already satisfied: python-dateutil>=2.8.2 in /usr/local/lib/python3.10/dist-packages (from pandas>=1.0.0->ucimlrepo) (2.8.2)\n",
            "Requirement already satisfied: pytz>=2020.1 in /usr/local/lib/python3.10/dist-packages (from pandas>=1.0.0->ucimlrepo) (2023.4)\n",
            "Requirement already satisfied: tzdata>=2022.1 in /usr/local/lib/python3.10/dist-packages (from pandas>=1.0.0->ucimlrepo) (2024.1)\n",
            "Requirement already satisfied: numpy>=1.21.0 in /usr/local/lib/python3.10/dist-packages (from pandas>=1.0.0->ucimlrepo) (1.25.2)\n",
            "Requirement already satisfied: six>=1.5 in /usr/local/lib/python3.10/dist-packages (from python-dateutil>=2.8.2->pandas>=1.0.0->ucimlrepo) (1.16.0)\n",
            "Installing collected packages: ucimlrepo\n",
            "Successfully installed ucimlrepo-0.0.7\n"
          ]
        }
      ],
      "source": [
        "# Install the ucimlrepo package\n",
        "!pip install ucimlrepo"
      ]
    },
    {
      "cell_type": "code",
      "source": [
        "!pip install tabulate"
      ],
      "metadata": {
        "colab": {
          "base_uri": "https://localhost:8080/"
        },
        "id": "KtBE0vVi43eL",
        "outputId": "03a2356c-a1ed-4e10-8d5f-c5575e49f621"
      },
      "execution_count": 3,
      "outputs": [
        {
          "output_type": "stream",
          "name": "stdout",
          "text": [
            "Requirement already satisfied: tabulate in /usr/local/lib/python3.10/dist-packages (0.9.0)\n"
          ]
        }
      ]
    },
    {
      "cell_type": "markdown",
      "source": [
        "Eksploration Dataset"
      ],
      "metadata": {
        "id": "sicuDKLB6bqx"
      }
    },
    {
      "cell_type": "code",
      "source": [
        "# Import the necessary libraries\n",
        "import pandas as pd\n",
        "from ucimlrepo import fetch_ucirepo\n",
        "from tabulate import tabulate\n",
        "\n",
        "import numpy as np\n",
        "import pandas as pd\n",
        "\n",
        "from IPython.core.display import display, HTML\n",
        "import plotly.graph_objects as go\n",
        "import plotly.express as px\n",
        "from plotly.subplots import make_subplots\n",
        "import plotly.io as pio\n",
        "\n",
        "import seaborn as sns\n",
        "from importlib import reload\n",
        "import matplotlib.pyplot as plt\n",
        "import matplotlib\n",
        "import warnings\n",
        "\n",
        "# Fetch the dataset\n",
        "ai4i_2020_predictive_maintenance_dataset = fetch_ucirepo(id=601)\n",
        "\n",
        "# Get data (as pandas dataframes)\n",
        "X = ai4i_2020_predictive_maintenance_dataset.data.features\n",
        "y = ai4i_2020_predictive_maintenance_dataset.data.targets\n",
        "\n",
        "# Convert to pandas DataFrames\n",
        "df_features = pd.DataFrame(X)\n",
        "df_targets = pd.DataFrame(y)\n",
        "\n",
        "# **Handle Metadata**\n",
        "# Convert metadata to a dictionary for easier DataFrame creation\n",
        "metadata_dict = {k: [str(v)] for k, v in ai4i_2020_predictive_maintenance_dataset.metadata.items()}\n",
        "metadata_df = pd.DataFrame(metadata_dict)\n",
        "\n",
        "# Create DataFrame for variable information\n",
        "variables_df = pd.DataFrame(ai4i_2020_predictive_maintenance_dataset.variables)\n",
        "\n",
        "# Display the metadata in a table\n",
        "print(\"Metadata:\")\n",
        "print(metadata_df.transpose())"
      ],
      "metadata": {
        "colab": {
          "base_uri": "https://localhost:8080/"
        },
        "id": "64gfgYGoldRz",
        "outputId": "9e7ac5fd-560e-4818-d1fc-327815fcaf23"
      },
      "execution_count": 121,
      "outputs": [
        {
          "output_type": "stream",
          "name": "stdout",
          "text": [
            "Metadata:\n",
            "                                                                          0\n",
            "uci_id                                                                  601\n",
            "name                               AI4I 2020 Predictive Maintenance Dataset\n",
            "repository_url            https://archive.ics.uci.edu/dataset/601/ai4i+2...\n",
            "data_url                  https://archive.ics.uci.edu/static/public/601/...\n",
            "abstract                  The AI4I 2020 Predictive Maintenance Dataset i...\n",
            "area                                                       Computer Science\n",
            "tasks                     ['Classification', 'Regression', 'Causal-Disco...\n",
            "characteristics                             ['Multivariate', 'Time-Series']\n",
            "num_instances                                                         10000\n",
            "num_features                                                              6\n",
            "feature_types                                                      ['Real']\n",
            "demographics                                                             []\n",
            "target_col                ['Machine failure', 'TWF', 'HDF', 'PWF', 'OSF'...\n",
            "index_col                                             ['UID', 'Product ID']\n",
            "has_missing_values                                                       no\n",
            "missing_values_symbol                                                  None\n",
            "year_of_dataset_creation                                               2020\n",
            "last_updated                                                Wed Feb 14 2024\n",
            "dataset_doi                                                 10.24432/C5HS5C\n",
            "creators                                                                 []\n",
            "intro_paper               {'title': 'Explainable Artificial Intelligence...\n",
            "additional_info           {'summary': 'Since real predictive maintenance...\n"
          ]
        }
      ]
    },
    {
      "cell_type": "code",
      "source": [
        "# Display the variable information in a table\n",
        "print(\"\\nVariable Information:\")\n",
        "print(variables_df)"
      ],
      "metadata": {
        "colab": {
          "base_uri": "https://localhost:8080/"
        },
        "id": "33UX7RNdpojp",
        "outputId": "40ccbc8e-ed53-44aa-d19a-c422c6dbbfa4"
      },
      "execution_count": 122,
      "outputs": [
        {
          "output_type": "stream",
          "name": "stdout",
          "text": [
            "\n",
            "Variable Information:\n",
            "                   name     role         type demographic description units  \\\n",
            "0                   UID       ID      Integer        None        None  None   \n",
            "1            Product ID       ID  Categorical        None        None  None   \n",
            "2                  Type  Feature  Categorical        None        None  None   \n",
            "3       Air temperature  Feature   Continuous        None        None     K   \n",
            "4   Process temperature  Feature   Continuous        None        None     K   \n",
            "5      Rotational speed  Feature      Integer        None        None   rpm   \n",
            "6                Torque  Feature   Continuous        None        None    Nm   \n",
            "7             Tool wear  Feature      Integer        None        None   min   \n",
            "8       Machine failure   Target      Integer        None        None  None   \n",
            "9                   TWF   Target      Integer        None        None  None   \n",
            "10                  HDF   Target      Integer        None        None  None   \n",
            "11                  PWF   Target      Integer        None        None  None   \n",
            "12                  OSF   Target      Integer        None        None  None   \n",
            "13                  RNF   Target      Integer        None        None  None   \n",
            "\n",
            "   missing_values  \n",
            "0              no  \n",
            "1              no  \n",
            "2              no  \n",
            "3              no  \n",
            "4              no  \n",
            "5              no  \n",
            "6              no  \n",
            "7              no  \n",
            "8              no  \n",
            "9              no  \n",
            "10             no  \n",
            "11             no  \n",
            "12             no  \n",
            "13             no  \n"
          ]
        }
      ]
    },
    {
      "cell_type": "code",
      "source": [
        "# Display the first few rows of the features DataFrame in a table\n",
        "print(\"\\nFirst few rows of the features DataFrame:\")\n",
        "print(tabulate(df_features.head(), headers='keys', tablefmt='psql'))"
      ],
      "metadata": {
        "colab": {
          "base_uri": "https://localhost:8080/"
        },
        "id": "Jyz2eLExpw3m",
        "outputId": "5ebe7d57-5ed0-4670-bca8-6c43e8b388ff"
      },
      "execution_count": 123,
      "outputs": [
        {
          "output_type": "stream",
          "name": "stdout",
          "text": [
            "\n",
            "First few rows of the features DataFrame:\n",
            "+----+--------+-------------------+-----------------------+--------------------+----------+-------------+\n",
            "|    | Type   |   Air temperature |   Process temperature |   Rotational speed |   Torque |   Tool wear |\n",
            "|----+--------+-------------------+-----------------------+--------------------+----------+-------------|\n",
            "|  0 | M      |             298.1 |                 308.6 |               1551 |     42.8 |           0 |\n",
            "|  1 | L      |             298.2 |                 308.7 |               1408 |     46.3 |           3 |\n",
            "|  2 | L      |             298.1 |                 308.5 |               1498 |     49.4 |           5 |\n",
            "|  3 | L      |             298.2 |                 308.6 |               1433 |     39.5 |           7 |\n",
            "|  4 | L      |             298.2 |                 308.7 |               1408 |     40   |           9 |\n",
            "+----+--------+-------------------+-----------------------+--------------------+----------+-------------+\n"
          ]
        }
      ]
    },
    {
      "cell_type": "code",
      "source": [
        "# Display the first few rows of the targets DataFrame in a table\n",
        "print(\"\\nFirst few rows of the targets DataFrame:\")\n",
        "print(tabulate(df_targets.head(), headers='keys', tablefmt='psql'))"
      ],
      "metadata": {
        "colab": {
          "base_uri": "https://localhost:8080/"
        },
        "id": "JyJxlNUh59zt",
        "outputId": "6ca04d07-8001-468e-8621-4220f6f4e027"
      },
      "execution_count": 124,
      "outputs": [
        {
          "output_type": "stream",
          "name": "stdout",
          "text": [
            "\n",
            "First few rows of the targets DataFrame:\n",
            "+----+-------------------+-------+-------+-------+-------+-------+\n",
            "|    |   Machine failure |   TWF |   HDF |   PWF |   OSF |   RNF |\n",
            "|----+-------------------+-------+-------+-------+-------+-------|\n",
            "|  0 |                 0 |     0 |     0 |     0 |     0 |     0 |\n",
            "|  1 |                 0 |     0 |     0 |     0 |     0 |     0 |\n",
            "|  2 |                 0 |     0 |     0 |     0 |     0 |     0 |\n",
            "|  3 |                 0 |     0 |     0 |     0 |     0 |     0 |\n",
            "|  4 |                 0 |     0 |     0 |     0 |     0 |     0 |\n",
            "+----+-------------------+-------+-------+-------+-------+-------+\n"
          ]
        }
      ]
    },
    {
      "cell_type": "code",
      "source": [
        "# Display a summary of the targets DataFrame in a table\n",
        "print(\"\\nTargets DataFrame summary:\")\n",
        "print(df_targets.describe())"
      ],
      "metadata": {
        "colab": {
          "base_uri": "https://localhost:8080/"
        },
        "id": "6OzX_u-cp0ef",
        "outputId": "cb4969c0-932e-4ba7-a965-fb2edeb24564"
      },
      "execution_count": 125,
      "outputs": [
        {
          "output_type": "stream",
          "name": "stdout",
          "text": [
            "\n",
            "Targets DataFrame summary:\n",
            "       Machine failure           TWF           HDF           PWF  \\\n",
            "count     10000.000000  10000.000000  10000.000000  10000.000000   \n",
            "mean          0.033900      0.004600      0.011500      0.009500   \n",
            "std           0.180981      0.067671      0.106625      0.097009   \n",
            "min           0.000000      0.000000      0.000000      0.000000   \n",
            "25%           0.000000      0.000000      0.000000      0.000000   \n",
            "50%           0.000000      0.000000      0.000000      0.000000   \n",
            "75%           0.000000      0.000000      0.000000      0.000000   \n",
            "max           1.000000      1.000000      1.000000      1.000000   \n",
            "\n",
            "                OSF          RNF  \n",
            "count  10000.000000  10000.00000  \n",
            "mean       0.009800      0.00190  \n",
            "std        0.098514      0.04355  \n",
            "min        0.000000      0.00000  \n",
            "25%        0.000000      0.00000  \n",
            "50%        0.000000      0.00000  \n",
            "75%        0.000000      0.00000  \n",
            "max        1.000000      1.00000  \n"
          ]
        }
      ]
    },
    {
      "cell_type": "code",
      "source": [
        "# Combine features and targets into a single DataFrame\n",
        "df_combined = pd.concat([df_features, df_targets], axis=1)"
      ],
      "metadata": {
        "id": "JeyCHITj00HQ"
      },
      "execution_count": 126,
      "outputs": []
    },
    {
      "cell_type": "code",
      "source": [
        "# Display the first few rows of the combined DataFrame in a table\n",
        "print(\"\\nFirst few rows of the combined DataFrame:\")\n",
        "print(tabulate(df_combined.head(), headers='keys', tablefmt='psql'))"
      ],
      "metadata": {
        "colab": {
          "base_uri": "https://localhost:8080/"
        },
        "id": "aVtRlX4hrUcE",
        "outputId": "6dcdf7bd-8db5-47dc-dddc-b09ef712dec9"
      },
      "execution_count": 127,
      "outputs": [
        {
          "output_type": "stream",
          "name": "stdout",
          "text": [
            "\n",
            "First few rows of the combined DataFrame:\n",
            "+----+--------+-------------------+-----------------------+--------------------+----------+-------------+-------------------+-------+-------+-------+-------+-------+\n",
            "|    | Type   |   Air temperature |   Process temperature |   Rotational speed |   Torque |   Tool wear |   Machine failure |   TWF |   HDF |   PWF |   OSF |   RNF |\n",
            "|----+--------+-------------------+-----------------------+--------------------+----------+-------------+-------------------+-------+-------+-------+-------+-------|\n",
            "|  0 | M      |             298.1 |                 308.6 |               1551 |     42.8 |           0 |                 0 |     0 |     0 |     0 |     0 |     0 |\n",
            "|  1 | L      |             298.2 |                 308.7 |               1408 |     46.3 |           3 |                 0 |     0 |     0 |     0 |     0 |     0 |\n",
            "|  2 | L      |             298.1 |                 308.5 |               1498 |     49.4 |           5 |                 0 |     0 |     0 |     0 |     0 |     0 |\n",
            "|  3 | L      |             298.2 |                 308.6 |               1433 |     39.5 |           7 |                 0 |     0 |     0 |     0 |     0 |     0 |\n",
            "|  4 | L      |             298.2 |                 308.7 |               1408 |     40   |           9 |                 0 |     0 |     0 |     0 |     0 |     0 |\n",
            "+----+--------+-------------------+-----------------------+--------------------+----------+-------------+-------------------+-------+-------+-------+-------+-------+\n"
          ]
        }
      ]
    },
    {
      "cell_type": "code",
      "source": [
        "# Display info of the features DataFrame\n",
        "print(\"\\nFeatures DataFrame Info:\")\n",
        "print(df_combined.info())"
      ],
      "metadata": {
        "colab": {
          "base_uri": "https://localhost:8080/"
        },
        "id": "E2jU0D6VwJ3T",
        "outputId": "4c4cdbc2-4818-4193-9e93-bc5632b48129"
      },
      "execution_count": 128,
      "outputs": [
        {
          "output_type": "stream",
          "name": "stdout",
          "text": [
            "\n",
            "Features DataFrame Info:\n",
            "<class 'pandas.core.frame.DataFrame'>\n",
            "RangeIndex: 10000 entries, 0 to 9999\n",
            "Data columns (total 12 columns):\n",
            " #   Column               Non-Null Count  Dtype  \n",
            "---  ------               --------------  -----  \n",
            " 0   Type                 10000 non-null  object \n",
            " 1   Air temperature      10000 non-null  float64\n",
            " 2   Process temperature  10000 non-null  float64\n",
            " 3   Rotational speed     10000 non-null  int64  \n",
            " 4   Torque               10000 non-null  float64\n",
            " 5   Tool wear            10000 non-null  int64  \n",
            " 6   Machine failure      10000 non-null  int64  \n",
            " 7   TWF                  10000 non-null  int64  \n",
            " 8   HDF                  10000 non-null  int64  \n",
            " 9   PWF                  10000 non-null  int64  \n",
            " 10  OSF                  10000 non-null  int64  \n",
            " 11  RNF                  10000 non-null  int64  \n",
            "dtypes: float64(3), int64(8), object(1)\n",
            "memory usage: 937.6+ KB\n",
            "None\n"
          ]
        }
      ]
    },
    {
      "cell_type": "code",
      "source": [
        "df_combined.replace(\"?\",np.nan,inplace=True)"
      ],
      "metadata": {
        "id": "U9c1esP2xwa0"
      },
      "execution_count": 129,
      "outputs": []
    },
    {
      "cell_type": "code",
      "source": [
        "for column in df_combined.columns:\n",
        "    try:\n",
        "        df_combined[column]=df_combined[column].astype(float)\n",
        "    except:\n",
        "        pass"
      ],
      "metadata": {
        "id": "C17juykxx0j9"
      },
      "execution_count": 130,
      "outputs": []
    },
    {
      "cell_type": "code",
      "source": [
        "# show the numeric characters\n",
        "df_combined = df_combined.select_dtypes(include=[np.number])\n",
        "df_combined.describe(include='all').T"
      ],
      "metadata": {
        "colab": {
          "base_uri": "https://localhost:8080/",
          "height": 394
        },
        "id": "6v1YUpJSyERZ",
        "outputId": "376d7e72-c57a-4a98-f6aa-ff2055b10cf9"
      },
      "execution_count": 131,
      "outputs": [
        {
          "output_type": "execute_result",
          "data": {
            "text/plain": [
              "                       count        mean         std     min     25%     50%  \\\n",
              "Air temperature      10000.0   300.00493    2.000259   295.3   298.3   300.1   \n",
              "Process temperature  10000.0   310.00556    1.483734   305.7   308.8   310.1   \n",
              "Rotational speed     10000.0  1538.77610  179.284096  1168.0  1423.0  1503.0   \n",
              "Torque               10000.0    39.98691    9.968934     3.8    33.2    40.1   \n",
              "Tool wear            10000.0   107.95100   63.654147     0.0    53.0   108.0   \n",
              "Machine failure      10000.0     0.03390    0.180981     0.0     0.0     0.0   \n",
              "TWF                  10000.0     0.00460    0.067671     0.0     0.0     0.0   \n",
              "HDF                  10000.0     0.01150    0.106625     0.0     0.0     0.0   \n",
              "PWF                  10000.0     0.00950    0.097009     0.0     0.0     0.0   \n",
              "OSF                  10000.0     0.00980    0.098514     0.0     0.0     0.0   \n",
              "RNF                  10000.0     0.00190    0.043550     0.0     0.0     0.0   \n",
              "\n",
              "                        75%     max  \n",
              "Air temperature       301.5   304.5  \n",
              "Process temperature   311.1   313.8  \n",
              "Rotational speed     1612.0  2886.0  \n",
              "Torque                 46.8    76.6  \n",
              "Tool wear             162.0   253.0  \n",
              "Machine failure         0.0     1.0  \n",
              "TWF                     0.0     1.0  \n",
              "HDF                     0.0     1.0  \n",
              "PWF                     0.0     1.0  \n",
              "OSF                     0.0     1.0  \n",
              "RNF                     0.0     1.0  "
            ],
            "text/html": [
              "\n",
              "  <div id=\"df-f1cd0a29-981f-411f-9ded-efd1b9a7b81e\" class=\"colab-df-container\">\n",
              "    <div>\n",
              "<style scoped>\n",
              "    .dataframe tbody tr th:only-of-type {\n",
              "        vertical-align: middle;\n",
              "    }\n",
              "\n",
              "    .dataframe tbody tr th {\n",
              "        vertical-align: top;\n",
              "    }\n",
              "\n",
              "    .dataframe thead th {\n",
              "        text-align: right;\n",
              "    }\n",
              "</style>\n",
              "<table border=\"1\" class=\"dataframe\">\n",
              "  <thead>\n",
              "    <tr style=\"text-align: right;\">\n",
              "      <th></th>\n",
              "      <th>count</th>\n",
              "      <th>mean</th>\n",
              "      <th>std</th>\n",
              "      <th>min</th>\n",
              "      <th>25%</th>\n",
              "      <th>50%</th>\n",
              "      <th>75%</th>\n",
              "      <th>max</th>\n",
              "    </tr>\n",
              "  </thead>\n",
              "  <tbody>\n",
              "    <tr>\n",
              "      <th>Air temperature</th>\n",
              "      <td>10000.0</td>\n",
              "      <td>300.00493</td>\n",
              "      <td>2.000259</td>\n",
              "      <td>295.3</td>\n",
              "      <td>298.3</td>\n",
              "      <td>300.1</td>\n",
              "      <td>301.5</td>\n",
              "      <td>304.5</td>\n",
              "    </tr>\n",
              "    <tr>\n",
              "      <th>Process temperature</th>\n",
              "      <td>10000.0</td>\n",
              "      <td>310.00556</td>\n",
              "      <td>1.483734</td>\n",
              "      <td>305.7</td>\n",
              "      <td>308.8</td>\n",
              "      <td>310.1</td>\n",
              "      <td>311.1</td>\n",
              "      <td>313.8</td>\n",
              "    </tr>\n",
              "    <tr>\n",
              "      <th>Rotational speed</th>\n",
              "      <td>10000.0</td>\n",
              "      <td>1538.77610</td>\n",
              "      <td>179.284096</td>\n",
              "      <td>1168.0</td>\n",
              "      <td>1423.0</td>\n",
              "      <td>1503.0</td>\n",
              "      <td>1612.0</td>\n",
              "      <td>2886.0</td>\n",
              "    </tr>\n",
              "    <tr>\n",
              "      <th>Torque</th>\n",
              "      <td>10000.0</td>\n",
              "      <td>39.98691</td>\n",
              "      <td>9.968934</td>\n",
              "      <td>3.8</td>\n",
              "      <td>33.2</td>\n",
              "      <td>40.1</td>\n",
              "      <td>46.8</td>\n",
              "      <td>76.6</td>\n",
              "    </tr>\n",
              "    <tr>\n",
              "      <th>Tool wear</th>\n",
              "      <td>10000.0</td>\n",
              "      <td>107.95100</td>\n",
              "      <td>63.654147</td>\n",
              "      <td>0.0</td>\n",
              "      <td>53.0</td>\n",
              "      <td>108.0</td>\n",
              "      <td>162.0</td>\n",
              "      <td>253.0</td>\n",
              "    </tr>\n",
              "    <tr>\n",
              "      <th>Machine failure</th>\n",
              "      <td>10000.0</td>\n",
              "      <td>0.03390</td>\n",
              "      <td>0.180981</td>\n",
              "      <td>0.0</td>\n",
              "      <td>0.0</td>\n",
              "      <td>0.0</td>\n",
              "      <td>0.0</td>\n",
              "      <td>1.0</td>\n",
              "    </tr>\n",
              "    <tr>\n",
              "      <th>TWF</th>\n",
              "      <td>10000.0</td>\n",
              "      <td>0.00460</td>\n",
              "      <td>0.067671</td>\n",
              "      <td>0.0</td>\n",
              "      <td>0.0</td>\n",
              "      <td>0.0</td>\n",
              "      <td>0.0</td>\n",
              "      <td>1.0</td>\n",
              "    </tr>\n",
              "    <tr>\n",
              "      <th>HDF</th>\n",
              "      <td>10000.0</td>\n",
              "      <td>0.01150</td>\n",
              "      <td>0.106625</td>\n",
              "      <td>0.0</td>\n",
              "      <td>0.0</td>\n",
              "      <td>0.0</td>\n",
              "      <td>0.0</td>\n",
              "      <td>1.0</td>\n",
              "    </tr>\n",
              "    <tr>\n",
              "      <th>PWF</th>\n",
              "      <td>10000.0</td>\n",
              "      <td>0.00950</td>\n",
              "      <td>0.097009</td>\n",
              "      <td>0.0</td>\n",
              "      <td>0.0</td>\n",
              "      <td>0.0</td>\n",
              "      <td>0.0</td>\n",
              "      <td>1.0</td>\n",
              "    </tr>\n",
              "    <tr>\n",
              "      <th>OSF</th>\n",
              "      <td>10000.0</td>\n",
              "      <td>0.00980</td>\n",
              "      <td>0.098514</td>\n",
              "      <td>0.0</td>\n",
              "      <td>0.0</td>\n",
              "      <td>0.0</td>\n",
              "      <td>0.0</td>\n",
              "      <td>1.0</td>\n",
              "    </tr>\n",
              "    <tr>\n",
              "      <th>RNF</th>\n",
              "      <td>10000.0</td>\n",
              "      <td>0.00190</td>\n",
              "      <td>0.043550</td>\n",
              "      <td>0.0</td>\n",
              "      <td>0.0</td>\n",
              "      <td>0.0</td>\n",
              "      <td>0.0</td>\n",
              "      <td>1.0</td>\n",
              "    </tr>\n",
              "  </tbody>\n",
              "</table>\n",
              "</div>\n",
              "    <div class=\"colab-df-buttons\">\n",
              "\n",
              "  <div class=\"colab-df-container\">\n",
              "    <button class=\"colab-df-convert\" onclick=\"convertToInteractive('df-f1cd0a29-981f-411f-9ded-efd1b9a7b81e')\"\n",
              "            title=\"Convert this dataframe to an interactive table.\"\n",
              "            style=\"display:none;\">\n",
              "\n",
              "  <svg xmlns=\"http://www.w3.org/2000/svg\" height=\"24px\" viewBox=\"0 -960 960 960\">\n",
              "    <path d=\"M120-120v-720h720v720H120Zm60-500h600v-160H180v160Zm220 220h160v-160H400v160Zm0 220h160v-160H400v160ZM180-400h160v-160H180v160Zm440 0h160v-160H620v160ZM180-180h160v-160H180v160Zm440 0h160v-160H620v160Z\"/>\n",
              "  </svg>\n",
              "    </button>\n",
              "\n",
              "  <style>\n",
              "    .colab-df-container {\n",
              "      display:flex;\n",
              "      gap: 12px;\n",
              "    }\n",
              "\n",
              "    .colab-df-convert {\n",
              "      background-color: #E8F0FE;\n",
              "      border: none;\n",
              "      border-radius: 50%;\n",
              "      cursor: pointer;\n",
              "      display: none;\n",
              "      fill: #1967D2;\n",
              "      height: 32px;\n",
              "      padding: 0 0 0 0;\n",
              "      width: 32px;\n",
              "    }\n",
              "\n",
              "    .colab-df-convert:hover {\n",
              "      background-color: #E2EBFA;\n",
              "      box-shadow: 0px 1px 2px rgba(60, 64, 67, 0.3), 0px 1px 3px 1px rgba(60, 64, 67, 0.15);\n",
              "      fill: #174EA6;\n",
              "    }\n",
              "\n",
              "    .colab-df-buttons div {\n",
              "      margin-bottom: 4px;\n",
              "    }\n",
              "\n",
              "    [theme=dark] .colab-df-convert {\n",
              "      background-color: #3B4455;\n",
              "      fill: #D2E3FC;\n",
              "    }\n",
              "\n",
              "    [theme=dark] .colab-df-convert:hover {\n",
              "      background-color: #434B5C;\n",
              "      box-shadow: 0px 1px 3px 1px rgba(0, 0, 0, 0.15);\n",
              "      filter: drop-shadow(0px 1px 2px rgba(0, 0, 0, 0.3));\n",
              "      fill: #FFFFFF;\n",
              "    }\n",
              "  </style>\n",
              "\n",
              "    <script>\n",
              "      const buttonEl =\n",
              "        document.querySelector('#df-f1cd0a29-981f-411f-9ded-efd1b9a7b81e button.colab-df-convert');\n",
              "      buttonEl.style.display =\n",
              "        google.colab.kernel.accessAllowed ? 'block' : 'none';\n",
              "\n",
              "      async function convertToInteractive(key) {\n",
              "        const element = document.querySelector('#df-f1cd0a29-981f-411f-9ded-efd1b9a7b81e');\n",
              "        const dataTable =\n",
              "          await google.colab.kernel.invokeFunction('convertToInteractive',\n",
              "                                                    [key], {});\n",
              "        if (!dataTable) return;\n",
              "\n",
              "        const docLinkHtml = 'Like what you see? Visit the ' +\n",
              "          '<a target=\"_blank\" href=https://colab.research.google.com/notebooks/data_table.ipynb>data table notebook</a>'\n",
              "          + ' to learn more about interactive tables.';\n",
              "        element.innerHTML = '';\n",
              "        dataTable['output_type'] = 'display_data';\n",
              "        await google.colab.output.renderOutput(dataTable, element);\n",
              "        const docLink = document.createElement('div');\n",
              "        docLink.innerHTML = docLinkHtml;\n",
              "        element.appendChild(docLink);\n",
              "      }\n",
              "    </script>\n",
              "  </div>\n",
              "\n",
              "\n",
              "<div id=\"df-f8236564-e8bc-4c61-95a1-14af258acf98\">\n",
              "  <button class=\"colab-df-quickchart\" onclick=\"quickchart('df-f8236564-e8bc-4c61-95a1-14af258acf98')\"\n",
              "            title=\"Suggest charts\"\n",
              "            style=\"display:none;\">\n",
              "\n",
              "<svg xmlns=\"http://www.w3.org/2000/svg\" height=\"24px\"viewBox=\"0 0 24 24\"\n",
              "     width=\"24px\">\n",
              "    <g>\n",
              "        <path d=\"M19 3H5c-1.1 0-2 .9-2 2v14c0 1.1.9 2 2 2h14c1.1 0 2-.9 2-2V5c0-1.1-.9-2-2-2zM9 17H7v-7h2v7zm4 0h-2V7h2v10zm4 0h-2v-4h2v4z\"/>\n",
              "    </g>\n",
              "</svg>\n",
              "  </button>\n",
              "\n",
              "<style>\n",
              "  .colab-df-quickchart {\n",
              "      --bg-color: #E8F0FE;\n",
              "      --fill-color: #1967D2;\n",
              "      --hover-bg-color: #E2EBFA;\n",
              "      --hover-fill-color: #174EA6;\n",
              "      --disabled-fill-color: #AAA;\n",
              "      --disabled-bg-color: #DDD;\n",
              "  }\n",
              "\n",
              "  [theme=dark] .colab-df-quickchart {\n",
              "      --bg-color: #3B4455;\n",
              "      --fill-color: #D2E3FC;\n",
              "      --hover-bg-color: #434B5C;\n",
              "      --hover-fill-color: #FFFFFF;\n",
              "      --disabled-bg-color: #3B4455;\n",
              "      --disabled-fill-color: #666;\n",
              "  }\n",
              "\n",
              "  .colab-df-quickchart {\n",
              "    background-color: var(--bg-color);\n",
              "    border: none;\n",
              "    border-radius: 50%;\n",
              "    cursor: pointer;\n",
              "    display: none;\n",
              "    fill: var(--fill-color);\n",
              "    height: 32px;\n",
              "    padding: 0;\n",
              "    width: 32px;\n",
              "  }\n",
              "\n",
              "  .colab-df-quickchart:hover {\n",
              "    background-color: var(--hover-bg-color);\n",
              "    box-shadow: 0 1px 2px rgba(60, 64, 67, 0.3), 0 1px 3px 1px rgba(60, 64, 67, 0.15);\n",
              "    fill: var(--button-hover-fill-color);\n",
              "  }\n",
              "\n",
              "  .colab-df-quickchart-complete:disabled,\n",
              "  .colab-df-quickchart-complete:disabled:hover {\n",
              "    background-color: var(--disabled-bg-color);\n",
              "    fill: var(--disabled-fill-color);\n",
              "    box-shadow: none;\n",
              "  }\n",
              "\n",
              "  .colab-df-spinner {\n",
              "    border: 2px solid var(--fill-color);\n",
              "    border-color: transparent;\n",
              "    border-bottom-color: var(--fill-color);\n",
              "    animation:\n",
              "      spin 1s steps(1) infinite;\n",
              "  }\n",
              "\n",
              "  @keyframes spin {\n",
              "    0% {\n",
              "      border-color: transparent;\n",
              "      border-bottom-color: var(--fill-color);\n",
              "      border-left-color: var(--fill-color);\n",
              "    }\n",
              "    20% {\n",
              "      border-color: transparent;\n",
              "      border-left-color: var(--fill-color);\n",
              "      border-top-color: var(--fill-color);\n",
              "    }\n",
              "    30% {\n",
              "      border-color: transparent;\n",
              "      border-left-color: var(--fill-color);\n",
              "      border-top-color: var(--fill-color);\n",
              "      border-right-color: var(--fill-color);\n",
              "    }\n",
              "    40% {\n",
              "      border-color: transparent;\n",
              "      border-right-color: var(--fill-color);\n",
              "      border-top-color: var(--fill-color);\n",
              "    }\n",
              "    60% {\n",
              "      border-color: transparent;\n",
              "      border-right-color: var(--fill-color);\n",
              "    }\n",
              "    80% {\n",
              "      border-color: transparent;\n",
              "      border-right-color: var(--fill-color);\n",
              "      border-bottom-color: var(--fill-color);\n",
              "    }\n",
              "    90% {\n",
              "      border-color: transparent;\n",
              "      border-bottom-color: var(--fill-color);\n",
              "    }\n",
              "  }\n",
              "</style>\n",
              "\n",
              "  <script>\n",
              "    async function quickchart(key) {\n",
              "      const quickchartButtonEl =\n",
              "        document.querySelector('#' + key + ' button');\n",
              "      quickchartButtonEl.disabled = true;  // To prevent multiple clicks.\n",
              "      quickchartButtonEl.classList.add('colab-df-spinner');\n",
              "      try {\n",
              "        const charts = await google.colab.kernel.invokeFunction(\n",
              "            'suggestCharts', [key], {});\n",
              "      } catch (error) {\n",
              "        console.error('Error during call to suggestCharts:', error);\n",
              "      }\n",
              "      quickchartButtonEl.classList.remove('colab-df-spinner');\n",
              "      quickchartButtonEl.classList.add('colab-df-quickchart-complete');\n",
              "    }\n",
              "    (() => {\n",
              "      let quickchartButtonEl =\n",
              "        document.querySelector('#df-f8236564-e8bc-4c61-95a1-14af258acf98 button');\n",
              "      quickchartButtonEl.style.display =\n",
              "        google.colab.kernel.accessAllowed ? 'block' : 'none';\n",
              "    })();\n",
              "  </script>\n",
              "</div>\n",
              "\n",
              "    </div>\n",
              "  </div>\n"
            ],
            "application/vnd.google.colaboratory.intrinsic+json": {
              "type": "dataframe",
              "summary": "{\n  \"name\": \"df_combined\",\n  \"rows\": 11,\n  \"fields\": [\n    {\n      \"column\": \"count\",\n      \"properties\": {\n        \"dtype\": \"number\",\n        \"std\": 0.0,\n        \"min\": 10000.0,\n        \"max\": 10000.0,\n        \"num_unique_values\": 1,\n        \"samples\": [\n          10000.0\n        ],\n        \"semantic_type\": \"\",\n        \"description\": \"\"\n      }\n    },\n    {\n      \"column\": \"mean\",\n      \"properties\": {\n        \"dtype\": \"number\",\n        \"std\": 456.904871907667,\n        \"min\": 0.0019,\n        \"max\": 1538.7761,\n        \"num_unique_values\": 11,\n        \"samples\": [\n          0.0339\n        ],\n        \"semantic_type\": \"\",\n        \"description\": \"\"\n      }\n    },\n    {\n      \"column\": \"std\",\n      \"properties\": {\n        \"dtype\": \"number\",\n        \"std\": 55.042266893234356,\n        \"min\": 0.043549737748530666,\n        \"max\": 179.2840959134266,\n        \"num_unique_values\": 11,\n        \"samples\": [\n          0.18098084265065364\n        ],\n        \"semantic_type\": \"\",\n        \"description\": \"\"\n      }\n    },\n    {\n      \"column\": \"min\",\n      \"properties\": {\n        \"dtype\": \"number\",\n        \"std\": 354.8495632594953,\n        \"min\": 0.0,\n        \"max\": 1168.0,\n        \"num_unique_values\": 5,\n        \"samples\": [\n          305.7\n        ],\n        \"semantic_type\": \"\",\n        \"description\": \"\"\n      }\n    },\n    {\n      \"column\": \"25%\",\n      \"properties\": {\n        \"dtype\": \"number\",\n        \"std\": 424.9733743531362,\n        \"min\": 0.0,\n        \"max\": 1423.0,\n        \"num_unique_values\": 6,\n        \"samples\": [\n          298.3\n        ],\n        \"semantic_type\": \"\",\n        \"description\": \"\"\n      }\n    },\n    {\n      \"column\": \"50%\",\n      \"properties\": {\n        \"dtype\": \"number\",\n        \"std\": 446.502118899584,\n        \"min\": 0.0,\n        \"max\": 1503.0,\n        \"num_unique_values\": 6,\n        \"samples\": [\n          300.1\n        ],\n        \"semantic_type\": \"\",\n        \"description\": \"\"\n      }\n    },\n    {\n      \"column\": \"75%\",\n      \"properties\": {\n        \"dtype\": \"number\",\n        \"std\": 477.11124241246256,\n        \"min\": 0.0,\n        \"max\": 1612.0,\n        \"num_unique_values\": 6,\n        \"samples\": [\n          301.5\n        ],\n        \"semantic_type\": \"\",\n        \"description\": \"\"\n      }\n    },\n    {\n      \"column\": \"max\",\n      \"properties\": {\n        \"dtype\": \"number\",\n        \"std\": 851.447589482972,\n        \"min\": 1.0,\n        \"max\": 2886.0,\n        \"num_unique_values\": 6,\n        \"samples\": [\n          304.5\n        ],\n        \"semantic_type\": \"\",\n        \"description\": \"\"\n      }\n    }\n  ]\n}"
            }
          },
          "metadata": {},
          "execution_count": 131
        }
      ]
    },
    {
      "cell_type": "code",
      "source": [
        "plt.figure(figsize=(10,10))\n",
        "plot_kws={\"s\": 1}\n",
        "sns.heatmap(df_combined.isna().transpose(),\n",
        "            cmap='cividis',\n",
        "            linewidths=0.0,\n",
        "           ).set_facecolor('white')"
      ],
      "metadata": {
        "colab": {
          "base_uri": "https://localhost:8080/",
          "height": 857
        },
        "id": "YqPhpwaiygDh",
        "outputId": "f6ad00df-9dad-4ac9-b9b2-376dd17cdb40"
      },
      "execution_count": 132,
      "outputs": [
        {
          "output_type": "display_data",
          "data": {
            "text/plain": [
              "<Figure size 1000x1000 with 2 Axes>"
            ],
            "image/png": "[encoded data removed]"
          },
          "metadata": {}
        }
      ]
    },
    {
      "cell_type": "code",
      "source": [
        "plt.figure(figsize=(10,10))\n",
        "threshold = 0.80\n",
        "sns.set_style(\"whitegrid\", {\"axes.facecolor\": \".0\"})\n",
        "df_cluster2 = df_combined.corr()\n",
        "mask = df_cluster2.where((abs(df_cluster2) >= threshold)).isna()\n",
        "plot_kws={\"s\": 1}\n",
        "sns.heatmap(df_cluster2,\n",
        "            cmap='RdYlBu',\n",
        "            annot=True,\n",
        "            mask=mask,\n",
        "            linewidths=0.2,\n",
        "            linecolor='lightgrey').set_facecolor('white')"
      ],
      "metadata": {
        "colab": {
          "base_uri": "https://localhost:8080/",
          "height": 966
        },
        "id": "1uumCVLNyxvn",
        "outputId": "f5948c52-6236-403a-9476-30070424643c"
      },
      "execution_count": 133,
      "outputs": [
        {
          "output_type": "display_data",
          "data": {
            "text/plain": [
              "<Figure size 1000x1000 with 2 Axes>"
            ],
            "image/png": "[encoded data removed]"
          },
          "metadata": {}
        }
      ]
    },
    {
      "cell_type": "code",
      "source": [
        "df_combined.drop(['TWF','HDF','PWF','OSF','RNF'],axis=1,inplace=True)"
      ],
      "metadata": {
        "id": "yMv96lhV0CXm"
      },
      "execution_count": 134,
      "outputs": []
    },
    {
      "cell_type": "code",
      "source": [
        "list(df_combined)"
      ],
      "metadata": {
        "colab": {
          "base_uri": "https://localhost:8080/"
        },
        "id": "C3RYmgJ51qyE",
        "outputId": "68ec6d52-f89d-4da6-a7e6-04951a15849b"
      },
      "execution_count": 135,
      "outputs": [
        {
          "output_type": "execute_result",
          "data": {
            "text/plain": [
              "['Air temperature',\n",
              " 'Process temperature',\n",
              " 'Rotational speed',\n",
              " 'Torque',\n",
              " 'Tool wear',\n",
              " 'Machine failure']"
            ]
          },
          "metadata": {},
          "execution_count": 135
        }
      ]
    },
    {
      "cell_type": "code",
      "source": [
        "df_combined = pd.get_dummies(df_combined,drop_first=True)"
      ],
      "metadata": {
        "id": "J0ZMGCjW1wOi"
      },
      "execution_count": 136,
      "outputs": []
    },
    {
      "cell_type": "code",
      "source": [
        "features = list(df_combined.columns)"
      ],
      "metadata": {
        "id": "yVWbEARW118t"
      },
      "execution_count": 137,
      "outputs": []
    },
    {
      "cell_type": "code",
      "source": [
        "for feature in features:\n",
        "    print(feature + \" - \" + str(len(df_combined[df_combined[feature].isna()])))"
      ],
      "metadata": {
        "colab": {
          "base_uri": "https://localhost:8080/"
        },
        "id": "Nsohf_YN16vB",
        "outputId": "b11bcdfc-0d9e-4159-920e-e5308811fdb1"
      },
      "execution_count": 138,
      "outputs": [
        {
          "output_type": "stream",
          "name": "stdout",
          "text": [
            "Air temperature - 0\n",
            "Process temperature - 0\n",
            "Rotational speed - 0\n",
            "Torque - 0\n",
            "Tool wear - 0\n",
            "Machine failure - 0\n"
          ]
        }
      ]
    },
    {
      "cell_type": "code",
      "source": [
        "df_group = df_combined.groupby(['Machine failure'])\n",
        "df_group.count()"
      ],
      "metadata": {
        "colab": {
          "base_uri": "https://localhost:8080/",
          "height": 143
        },
        "id": "E1X1_hg81_3x",
        "outputId": "e1c29758-1690-4420-c859-52162dbf54b7"
      },
      "execution_count": 139,
      "outputs": [
        {
          "output_type": "execute_result",
          "data": {
            "text/plain": [
              "                 Air temperature  Process temperature  Rotational speed  \\\n",
              "Machine failure                                                           \n",
              "0.0                         9661                 9661              9661   \n",
              "1.0                          339                  339               339   \n",
              "\n",
              "                 Torque  Tool wear  \n",
              "Machine failure                     \n",
              "0.0                9661       9661  \n",
              "1.0                 339        339  "
            ],
            "text/html": [
              "\n",
              "  <div id=\"df-b4c2ea9a-5b66-424e-a418-65a57108bcc4\" class=\"colab-df-container\">\n",
              "    <div>\n",
              "<style scoped>\n",
              "    .dataframe tbody tr th:only-of-type {\n",
              "        vertical-align: middle;\n",
              "    }\n",
              "\n",
              "    .dataframe tbody tr th {\n",
              "        vertical-align: top;\n",
              "    }\n",
              "\n",
              "    .dataframe thead th {\n",
              "        text-align: right;\n",
              "    }\n",
              "</style>\n",
              "<table border=\"1\" class=\"dataframe\">\n",
              "  <thead>\n",
              "    <tr style=\"text-align: right;\">\n",
              "      <th></th>\n",
              "      <th>Air temperature</th>\n",
              "      <th>Process temperature</th>\n",
              "      <th>Rotational speed</th>\n",
              "      <th>Torque</th>\n",
              "      <th>Tool wear</th>\n",
              "    </tr>\n",
              "    <tr>\n",
              "      <th>Machine failure</th>\n",
              "      <th></th>\n",
              "      <th></th>\n",
              "      <th></th>\n",
              "      <th></th>\n",
              "      <th></th>\n",
              "    </tr>\n",
              "  </thead>\n",
              "  <tbody>\n",
              "    <tr>\n",
              "      <th>0.0</th>\n",
              "      <td>9661</td>\n",
              "      <td>9661</td>\n",
              "      <td>9661</td>\n",
              "      <td>9661</td>\n",
              "      <td>9661</td>\n",
              "    </tr>\n",
              "    <tr>\n",
              "      <th>1.0</th>\n",
              "      <td>339</td>\n",
              "      <td>339</td>\n",
              "      <td>339</td>\n",
              "      <td>339</td>\n",
              "      <td>339</td>\n",
              "    </tr>\n",
              "  </tbody>\n",
              "</table>\n",
              "</div>\n",
              "    <div class=\"colab-df-buttons\">\n",
              "\n",
              "  <div class=\"colab-df-container\">\n",
              "    <button class=\"colab-df-convert\" onclick=\"convertToInteractive('df-b4c2ea9a-5b66-424e-a418-65a57108bcc4')\"\n",
              "            title=\"Convert this dataframe to an interactive table.\"\n",
              "            style=\"display:none;\">\n",
              "\n",
              "  <svg xmlns=\"http://www.w3.org/2000/svg\" height=\"24px\" viewBox=\"0 -960 960 960\">\n",
              "    <path d=\"M120-120v-720h720v720H120Zm60-500h600v-160H180v160Zm220 220h160v-160H400v160Zm0 220h160v-160H400v160ZM180-400h160v-160H180v160Zm440 0h160v-160H620v160ZM180-180h160v-160H180v160Zm440 0h160v-160H620v160Z\"/>\n",
              "  </svg>\n",
              "    </button>\n",
              "\n",
              "  <style>\n",
              "    .colab-df-container {\n",
              "      display:flex;\n",
              "      gap: 12px;\n",
              "    }\n",
              "\n",
              "    .colab-df-convert {\n",
              "      background-color: #E8F0FE;\n",
              "      border: none;\n",
              "      border-radius: 50%;\n",
              "      cursor: pointer;\n",
              "      display: none;\n",
              "      fill: #1967D2;\n",
              "      height: 32px;\n",
              "      padding: 0 0 0 0;\n",
              "      width: 32px;\n",
              "    }\n",
              "\n",
              "    .colab-df-convert:hover {\n",
              "      background-color: #E2EBFA;\n",
              "      box-shadow: 0px 1px 2px rgba(60, 64, 67, 0.3), 0px 1px 3px 1px rgba(60, 64, 67, 0.15);\n",
              "      fill: #174EA6;\n",
              "    }\n",
              "\n",
              "    .colab-df-buttons div {\n",
              "      margin-bottom: 4px;\n",
              "    }\n",
              "\n",
              "    [theme=dark] .colab-df-convert {\n",
              "      background-color: #3B4455;\n",
              "      fill: #D2E3FC;\n",
              "    }\n",
              "\n",
              "    [theme=dark] .colab-df-convert:hover {\n",
              "      background-color: #434B5C;\n",
              "      box-shadow: 0px 1px 3px 1px rgba(0, 0, 0, 0.15);\n",
              "      filter: drop-shadow(0px 1px 2px rgba(0, 0, 0, 0.3));\n",
              "      fill: #FFFFFF;\n",
              "    }\n",
              "  </style>\n",
              "\n",
              "    <script>\n",
              "      const buttonEl =\n",
              "        document.querySelector('#df-b4c2ea9a-5b66-424e-a418-65a57108bcc4 button.colab-df-convert');\n",
              "      buttonEl.style.display =\n",
              "        google.colab.kernel.accessAllowed ? 'block' : 'none';\n",
              "\n",
              "      async function convertToInteractive(key) {\n",
              "        const element = document.querySelector('#df-b4c2ea9a-5b66-424e-a418-65a57108bcc4');\n",
              "        const dataTable =\n",
              "          await google.colab.kernel.invokeFunction('convertToInteractive',\n",
              "                                                    [key], {});\n",
              "        if (!dataTable) return;\n",
              "\n",
              "        const docLinkHtml = 'Like what you see? Visit the ' +\n",
              "          '<a target=\"_blank\" href=https://colab.research.google.com/notebooks/data_table.ipynb>data table notebook</a>'\n",
              "          + ' to learn more about interactive tables.';\n",
              "        element.innerHTML = '';\n",
              "        dataTable['output_type'] = 'display_data';\n",
              "        await google.colab.output.renderOutput(dataTable, element);\n",
              "        const docLink = document.createElement('div');\n",
              "        docLink.innerHTML = docLinkHtml;\n",
              "        element.appendChild(docLink);\n",
              "      }\n",
              "    </script>\n",
              "  </div>\n",
              "\n",
              "\n",
              "<div id=\"df-5cba4326-9192-4ffb-88f2-91d193d6a5a3\">\n",
              "  <button class=\"colab-df-quickchart\" onclick=\"quickchart('df-5cba4326-9192-4ffb-88f2-91d193d6a5a3')\"\n",
              "            title=\"Suggest charts\"\n",
              "            style=\"display:none;\">\n",
              "\n",
              "<svg xmlns=\"http://www.w3.org/2000/svg\" height=\"24px\"viewBox=\"0 0 24 24\"\n",
              "     width=\"24px\">\n",
              "    <g>\n",
              "        <path d=\"M19 3H5c-1.1 0-2 .9-2 2v14c0 1.1.9 2 2 2h14c1.1 0 2-.9 2-2V5c0-1.1-.9-2-2-2zM9 17H7v-7h2v7zm4 0h-2V7h2v10zm4 0h-2v-4h2v4z\"/>\n",
              "    </g>\n",
              "</svg>\n",
              "  </button>\n",
              "\n",
              "<style>\n",
              "  .colab-df-quickchart {\n",
              "      --bg-color: #E8F0FE;\n",
              "      --fill-color: #1967D2;\n",
              "      --hover-bg-color: #E2EBFA;\n",
              "      --hover-fill-color: #174EA6;\n",
              "      --disabled-fill-color: #AAA;\n",
              "      --disabled-bg-color: #DDD;\n",
              "  }\n",
              "\n",
              "  [theme=dark] .colab-df-quickchart {\n",
              "      --bg-color: #3B4455;\n",
              "      --fill-color: #D2E3FC;\n",
              "      --hover-bg-color: #434B5C;\n",
              "      --hover-fill-color: #FFFFFF;\n",
              "      --disabled-bg-color: #3B4455;\n",
              "      --disabled-fill-color: #666;\n",
              "  }\n",
              "\n",
              "  .colab-df-quickchart {\n",
              "    background-color: var(--bg-color);\n",
              "    border: none;\n",
              "    border-radius: 50%;\n",
              "    cursor: pointer;\n",
              "    display: none;\n",
              "    fill: var(--fill-color);\n",
              "    height: 32px;\n",
              "    padding: 0;\n",
              "    width: 32px;\n",
              "  }\n",
              "\n",
              "  .colab-df-quickchart:hover {\n",
              "    background-color: var(--hover-bg-color);\n",
              "    box-shadow: 0 1px 2px rgba(60, 64, 67, 0.3), 0 1px 3px 1px rgba(60, 64, 67, 0.15);\n",
              "    fill: var(--button-hover-fill-color);\n",
              "  }\n",
              "\n",
              "  .colab-df-quickchart-complete:disabled,\n",
              "  .colab-df-quickchart-complete:disabled:hover {\n",
              "    background-color: var(--disabled-bg-color);\n",
              "    fill: var(--disabled-fill-color);\n",
              "    box-shadow: none;\n",
              "  }\n",
              "\n",
              "  .colab-df-spinner {\n",
              "    border: 2px solid var(--fill-color);\n",
              "    border-color: transparent;\n",
              "    border-bottom-color: var(--fill-color);\n",
              "    animation:\n",
              "      spin 1s steps(1) infinite;\n",
              "  }\n",
              "\n",
              "  @keyframes spin {\n",
              "    0% {\n",
              "      border-color: transparent;\n",
              "      border-bottom-color: var(--fill-color);\n",
              "      border-left-color: var(--fill-color);\n",
              "    }\n",
              "    20% {\n",
              "      border-color: transparent;\n",
              "      border-left-color: var(--fill-color);\n",
              "      border-top-color: var(--fill-color);\n",
              "    }\n",
              "    30% {\n",
              "      border-color: transparent;\n",
              "      border-left-color: var(--fill-color);\n",
              "      border-top-color: var(--fill-color);\n",
              "      border-right-color: var(--fill-color);\n",
              "    }\n",
              "    40% {\n",
              "      border-color: transparent;\n",
              "      border-right-color: var(--fill-color);\n",
              "      border-top-color: var(--fill-color);\n",
              "    }\n",
              "    60% {\n",
              "      border-color: transparent;\n",
              "      border-right-color: var(--fill-color);\n",
              "    }\n",
              "    80% {\n",
              "      border-color: transparent;\n",
              "      border-right-color: var(--fill-color);\n",
              "      border-bottom-color: var(--fill-color);\n",
              "    }\n",
              "    90% {\n",
              "      border-color: transparent;\n",
              "      border-bottom-color: var(--fill-color);\n",
              "    }\n",
              "  }\n",
              "</style>\n",
              "\n",
              "  <script>\n",
              "    async function quickchart(key) {\n",
              "      const quickchartButtonEl =\n",
              "        document.querySelector('#' + key + ' button');\n",
              "      quickchartButtonEl.disabled = true;  // To prevent multiple clicks.\n",
              "      quickchartButtonEl.classList.add('colab-df-spinner');\n",
              "      try {\n",
              "        const charts = await google.colab.kernel.invokeFunction(\n",
              "            'suggestCharts', [key], {});\n",
              "      } catch (error) {\n",
              "        console.error('Error during call to suggestCharts:', error);\n",
              "      }\n",
              "      quickchartButtonEl.classList.remove('colab-df-spinner');\n",
              "      quickchartButtonEl.classList.add('colab-df-quickchart-complete');\n",
              "    }\n",
              "    (() => {\n",
              "      let quickchartButtonEl =\n",
              "        document.querySelector('#df-5cba4326-9192-4ffb-88f2-91d193d6a5a3 button');\n",
              "      quickchartButtonEl.style.display =\n",
              "        google.colab.kernel.accessAllowed ? 'block' : 'none';\n",
              "    })();\n",
              "  </script>\n",
              "</div>\n",
              "\n",
              "    </div>\n",
              "  </div>\n"
            ],
            "application/vnd.google.colaboratory.intrinsic+json": {
              "type": "dataframe",
              "summary": "{\n  \"name\": \"df_group\",\n  \"rows\": 2,\n  \"fields\": [\n    {\n      \"column\": \"Machine failure\",\n      \"properties\": {\n        \"dtype\": \"number\",\n        \"std\": 0.7071067811865476,\n        \"min\": 0.0,\n        \"max\": 1.0,\n        \"num_unique_values\": 2,\n        \"samples\": [\n          1.0,\n          0.0\n        ],\n        \"semantic_type\": \"\",\n        \"description\": \"\"\n      }\n    },\n    {\n      \"column\": \"Air temperature\",\n      \"properties\": {\n        \"dtype\": \"number\",\n        \"std\": 6591,\n        \"min\": 339,\n        \"max\": 9661,\n        \"num_unique_values\": 2,\n        \"samples\": [\n          339,\n          9661\n        ],\n        \"semantic_type\": \"\",\n        \"description\": \"\"\n      }\n    },\n    {\n      \"column\": \"Process temperature\",\n      \"properties\": {\n        \"dtype\": \"number\",\n        \"std\": 6591,\n        \"min\": 339,\n        \"max\": 9661,\n        \"num_unique_values\": 2,\n        \"samples\": [\n          339,\n          9661\n        ],\n        \"semantic_type\": \"\",\n        \"description\": \"\"\n      }\n    },\n    {\n      \"column\": \"Rotational speed\",\n      \"properties\": {\n        \"dtype\": \"number\",\n        \"std\": 6591,\n        \"min\": 339,\n        \"max\": 9661,\n        \"num_unique_values\": 2,\n        \"samples\": [\n          339,\n          9661\n        ],\n        \"semantic_type\": \"\",\n        \"description\": \"\"\n      }\n    },\n    {\n      \"column\": \"Torque\",\n      \"properties\": {\n        \"dtype\": \"number\",\n        \"std\": 6591,\n        \"min\": 339,\n        \"max\": 9661,\n        \"num_unique_values\": 2,\n        \"samples\": [\n          339,\n          9661\n        ],\n        \"semantic_type\": \"\",\n        \"description\": \"\"\n      }\n    },\n    {\n      \"column\": \"Tool wear\",\n      \"properties\": {\n        \"dtype\": \"number\",\n        \"std\": 6591,\n        \"min\": 339,\n        \"max\": 9661,\n        \"num_unique_values\": 2,\n        \"samples\": [\n          339,\n          9661\n        ],\n        \"semantic_type\": \"\",\n        \"description\": \"\"\n      }\n    }\n  ]\n}"
            }
          },
          "metadata": {},
          "execution_count": 139
        }
      ]
    },
    {
      "cell_type": "code",
      "source": [
        "df_combined[df_combined['Machine failure'].isna()]"
      ],
      "metadata": {
        "colab": {
          "base_uri": "https://localhost:8080/",
          "height": 53
        },
        "id": "dCtCsFJy2GH7",
        "outputId": "d7642aa0-03b7-4628-dfce-46ea406db2c7"
      },
      "execution_count": 140,
      "outputs": [
        {
          "output_type": "execute_result",
          "data": {
            "text/plain": [
              "Empty DataFrame\n",
              "Columns: [Air temperature, Process temperature, Rotational speed, Torque, Tool wear, Machine failure]\n",
              "Index: []"
            ],
            "text/html": [
              "\n",
              "  <div id=\"df-76cd0f1a-bbcb-4fa8-815d-fc58b534cbb0\" class=\"colab-df-container\">\n",
              "    <div>\n",
              "<style scoped>\n",
              "    .dataframe tbody tr th:only-of-type {\n",
              "        vertical-align: middle;\n",
              "    }\n",
              "\n",
              "    .dataframe tbody tr th {\n",
              "        vertical-align: top;\n",
              "    }\n",
              "\n",
              "    .dataframe thead th {\n",
              "        text-align: right;\n",
              "    }\n",
              "</style>\n",
              "<table border=\"1\" class=\"dataframe\">\n",
              "  <thead>\n",
              "    <tr style=\"text-align: right;\">\n",
              "      <th></th>\n",
              "      <th>Air temperature</th>\n",
              "      <th>Process temperature</th>\n",
              "      <th>Rotational speed</th>\n",
              "      <th>Torque</th>\n",
              "      <th>Tool wear</th>\n",
              "      <th>Machine failure</th>\n",
              "    </tr>\n",
              "  </thead>\n",
              "  <tbody>\n",
              "  </tbody>\n",
              "</table>\n",
              "</div>\n",
              "    <div class=\"colab-df-buttons\">\n",
              "\n",
              "  <div class=\"colab-df-container\">\n",
              "    <button class=\"colab-df-convert\" onclick=\"convertToInteractive('df-76cd0f1a-bbcb-4fa8-815d-fc58b534cbb0')\"\n",
              "            title=\"Convert this dataframe to an interactive table.\"\n",
              "            style=\"display:none;\">\n",
              "\n",
              "  <svg xmlns=\"http://www.w3.org/2000/svg\" height=\"24px\" viewBox=\"0 -960 960 960\">\n",
              "    <path d=\"M120-120v-720h720v720H120Zm60-500h600v-160H180v160Zm220 220h160v-160H400v160Zm0 220h160v-160H400v160ZM180-400h160v-160H180v160Zm440 0h160v-160H620v160ZM180-180h160v-160H180v160Zm440 0h160v-160H620v160Z\"/>\n",
              "  </svg>\n",
              "    </button>\n",
              "\n",
              "  <style>\n",
              "    .colab-df-container {\n",
              "      display:flex;\n",
              "      gap: 12px;\n",
              "    }\n",
              "\n",
              "    .colab-df-convert {\n",
              "      background-color: #E8F0FE;\n",
              "      border: none;\n",
              "      border-radius: 50%;\n",
              "      cursor: pointer;\n",
              "      display: none;\n",
              "      fill: #1967D2;\n",
              "      height: 32px;\n",
              "      padding: 0 0 0 0;\n",
              "      width: 32px;\n",
              "    }\n",
              "\n",
              "    .colab-df-convert:hover {\n",
              "      background-color: #E2EBFA;\n",
              "      box-shadow: 0px 1px 2px rgba(60, 64, 67, 0.3), 0px 1px 3px 1px rgba(60, 64, 67, 0.15);\n",
              "      fill: #174EA6;\n",
              "    }\n",
              "\n",
              "    .colab-df-buttons div {\n",
              "      margin-bottom: 4px;\n",
              "    }\n",
              "\n",
              "    [theme=dark] .colab-df-convert {\n",
              "      background-color: #3B4455;\n",
              "      fill: #D2E3FC;\n",
              "    }\n",
              "\n",
              "    [theme=dark] .colab-df-convert:hover {\n",
              "      background-color: #434B5C;\n",
              "      box-shadow: 0px 1px 3px 1px rgba(0, 0, 0, 0.15);\n",
              "      filter: drop-shadow(0px 1px 2px rgba(0, 0, 0, 0.3));\n",
              "      fill: #FFFFFF;\n",
              "    }\n",
              "  </style>\n",
              "\n",
              "    <script>\n",
              "      const buttonEl =\n",
              "        document.querySelector('#df-76cd0f1a-bbcb-4fa8-815d-fc58b534cbb0 button.colab-df-convert');\n",
              "      buttonEl.style.display =\n",
              "        google.colab.kernel.accessAllowed ? 'block' : 'none';\n",
              "\n",
              "      async function convertToInteractive(key) {\n",
              "        const element = document.querySelector('#df-76cd0f1a-bbcb-4fa8-815d-fc58b534cbb0');\n",
              "        const dataTable =\n",
              "          await google.colab.kernel.invokeFunction('convertToInteractive',\n",
              "                                                    [key], {});\n",
              "        if (!dataTable) return;\n",
              "\n",
              "        const docLinkHtml = 'Like what you see? Visit the ' +\n",
              "          '<a target=\"_blank\" href=https://colab.research.google.com/notebooks/data_table.ipynb>data table notebook</a>'\n",
              "          + ' to learn more about interactive tables.';\n",
              "        element.innerHTML = '';\n",
              "        dataTable['output_type'] = 'display_data';\n",
              "        await google.colab.output.renderOutput(dataTable, element);\n",
              "        const docLink = document.createElement('div');\n",
              "        docLink.innerHTML = docLinkHtml;\n",
              "        element.appendChild(docLink);\n",
              "      }\n",
              "    </script>\n",
              "  </div>\n",
              "\n",
              "\n",
              "    </div>\n",
              "  </div>\n"
            ],
            "application/vnd.google.colaboratory.intrinsic+json": {
              "type": "dataframe",
              "summary": "{\n  \"name\": \"df_combined[df_combined['Machine failure']\",\n  \"rows\": 0,\n  \"fields\": [\n    {\n      \"column\": \"Air temperature\",\n      \"properties\": {\n        \"dtype\": \"number\",\n        \"std\": null,\n        \"min\": null,\n        \"max\": null,\n        \"num_unique_values\": 0,\n        \"samples\": [],\n        \"semantic_type\": \"\",\n        \"description\": \"\"\n      }\n    },\n    {\n      \"column\": \"Process temperature\",\n      \"properties\": {\n        \"dtype\": \"number\",\n        \"std\": null,\n        \"min\": null,\n        \"max\": null,\n        \"num_unique_values\": 0,\n        \"samples\": [],\n        \"semantic_type\": \"\",\n        \"description\": \"\"\n      }\n    },\n    {\n      \"column\": \"Rotational speed\",\n      \"properties\": {\n        \"dtype\": \"number\",\n        \"std\": null,\n        \"min\": null,\n        \"max\": null,\n        \"num_unique_values\": 0,\n        \"samples\": [],\n        \"semantic_type\": \"\",\n        \"description\": \"\"\n      }\n    },\n    {\n      \"column\": \"Torque\",\n      \"properties\": {\n        \"dtype\": \"number\",\n        \"std\": null,\n        \"min\": null,\n        \"max\": null,\n        \"num_unique_values\": 0,\n        \"samples\": [],\n        \"semantic_type\": \"\",\n        \"description\": \"\"\n      }\n    },\n    {\n      \"column\": \"Tool wear\",\n      \"properties\": {\n        \"dtype\": \"number\",\n        \"std\": null,\n        \"min\": null,\n        \"max\": null,\n        \"num_unique_values\": 0,\n        \"samples\": [],\n        \"semantic_type\": \"\",\n        \"description\": \"\"\n      }\n    },\n    {\n      \"column\": \"Machine failure\",\n      \"properties\": {\n        \"dtype\": \"number\",\n        \"std\": null,\n        \"min\": null,\n        \"max\": null,\n        \"num_unique_values\": 0,\n        \"samples\": [],\n        \"semantic_type\": \"\",\n        \"description\": \"\"\n      }\n    }\n  ]\n}"
            }
          },
          "metadata": {},
          "execution_count": 140
        }
      ]
    },
    {
      "cell_type": "markdown",
      "source": [
        "Pre-processing and Feature Selection"
      ],
      "metadata": {
        "id": "kTWNRAZO6gwX"
      }
    },
    {
      "cell_type": "code",
      "source": [
        "df_combined.fillna(df_combined.mean(),inplace=True)\n",
        "\n",
        "for feature in features:\n",
        "    try:\n",
        "        df_combined[feature].fillna(df_combined[feature].mean(),inplace=True)\n",
        "    except:\n",
        "        try:\n",
        "            df_combined[feature].fillna(df_combined[feature].mode(),inplace=True)\n",
        "        except:\n",
        "            pass"
      ],
      "metadata": {
        "id": "xP0SMvfT6lRw"
      },
      "execution_count": 141,
      "outputs": []
    },
    {
      "cell_type": "code",
      "source": [
        "df_combined.describe(include='all').T"
      ],
      "metadata": {
        "colab": {
          "base_uri": "https://localhost:8080/",
          "height": 237
        },
        "id": "KMoIo9yf6y4A",
        "outputId": "07848706-fd5a-4802-a4fd-ac0475d86e65"
      },
      "execution_count": 142,
      "outputs": [
        {
          "output_type": "execute_result",
          "data": {
            "text/plain": [
              "                       count        mean         std     min     25%     50%  \\\n",
              "Air temperature      10000.0   300.00493    2.000259   295.3   298.3   300.1   \n",
              "Process temperature  10000.0   310.00556    1.483734   305.7   308.8   310.1   \n",
              "Rotational speed     10000.0  1538.77610  179.284096  1168.0  1423.0  1503.0   \n",
              "Torque               10000.0    39.98691    9.968934     3.8    33.2    40.1   \n",
              "Tool wear            10000.0   107.95100   63.654147     0.0    53.0   108.0   \n",
              "Machine failure      10000.0     0.03390    0.180981     0.0     0.0     0.0   \n",
              "\n",
              "                        75%     max  \n",
              "Air temperature       301.5   304.5  \n",
              "Process temperature   311.1   313.8  \n",
              "Rotational speed     1612.0  2886.0  \n",
              "Torque                 46.8    76.6  \n",
              "Tool wear             162.0   253.0  \n",
              "Machine failure         0.0     1.0  "
            ],
            "text/html": [
              "\n",
              "  <div id=\"df-3307212d-6520-49b9-8762-0bb326c0b3ef\" class=\"colab-df-container\">\n",
              "    <div>\n",
              "<style scoped>\n",
              "    .dataframe tbody tr th:only-of-type {\n",
              "        vertical-align: middle;\n",
              "    }\n",
              "\n",
              "    .dataframe tbody tr th {\n",
              "        vertical-align: top;\n",
              "    }\n",
              "\n",
              "    .dataframe thead th {\n",
              "        text-align: right;\n",
              "    }\n",
              "</style>\n",
              "<table border=\"1\" class=\"dataframe\">\n",
              "  <thead>\n",
              "    <tr style=\"text-align: right;\">\n",
              "      <th></th>\n",
              "      <th>count</th>\n",
              "      <th>mean</th>\n",
              "      <th>std</th>\n",
              "      <th>min</th>\n",
              "      <th>25%</th>\n",
              "      <th>50%</th>\n",
              "      <th>75%</th>\n",
              "      <th>max</th>\n",
              "    </tr>\n",
              "  </thead>\n",
              "  <tbody>\n",
              "    <tr>\n",
              "      <th>Air temperature</th>\n",
              "      <td>10000.0</td>\n",
              "      <td>300.00493</td>\n",
              "      <td>2.000259</td>\n",
              "      <td>295.3</td>\n",
              "      <td>298.3</td>\n",
              "      <td>300.1</td>\n",
              "      <td>301.5</td>\n",
              "      <td>304.5</td>\n",
              "    </tr>\n",
              "    <tr>\n",
              "      <th>Process temperature</th>\n",
              "      <td>10000.0</td>\n",
              "      <td>310.00556</td>\n",
              "      <td>1.483734</td>\n",
              "      <td>305.7</td>\n",
              "      <td>308.8</td>\n",
              "      <td>310.1</td>\n",
              "      <td>311.1</td>\n",
              "      <td>313.8</td>\n",
              "    </tr>\n",
              "    <tr>\n",
              "      <th>Rotational speed</th>\n",
              "      <td>10000.0</td>\n",
              "      <td>1538.77610</td>\n",
              "      <td>179.284096</td>\n",
              "      <td>1168.0</td>\n",
              "      <td>1423.0</td>\n",
              "      <td>1503.0</td>\n",
              "      <td>1612.0</td>\n",
              "      <td>2886.0</td>\n",
              "    </tr>\n",
              "    <tr>\n",
              "      <th>Torque</th>\n",
              "      <td>10000.0</td>\n",
              "      <td>39.98691</td>\n",
              "      <td>9.968934</td>\n",
              "      <td>3.8</td>\n",
              "      <td>33.2</td>\n",
              "      <td>40.1</td>\n",
              "      <td>46.8</td>\n",
              "      <td>76.6</td>\n",
              "    </tr>\n",
              "    <tr>\n",
              "      <th>Tool wear</th>\n",
              "      <td>10000.0</td>\n",
              "      <td>107.95100</td>\n",
              "      <td>63.654147</td>\n",
              "      <td>0.0</td>\n",
              "      <td>53.0</td>\n",
              "      <td>108.0</td>\n",
              "      <td>162.0</td>\n",
              "      <td>253.0</td>\n",
              "    </tr>\n",
              "    <tr>\n",
              "      <th>Machine failure</th>\n",
              "      <td>10000.0</td>\n",
              "      <td>0.03390</td>\n",
              "      <td>0.180981</td>\n",
              "      <td>0.0</td>\n",
              "      <td>0.0</td>\n",
              "      <td>0.0</td>\n",
              "      <td>0.0</td>\n",
              "      <td>1.0</td>\n",
              "    </tr>\n",
              "  </tbody>\n",
              "</table>\n",
              "</div>\n",
              "    <div class=\"colab-df-buttons\">\n",
              "\n",
              "  <div class=\"colab-df-container\">\n",
              "    <button class=\"colab-df-convert\" onclick=\"convertToInteractive('df-3307212d-6520-49b9-8762-0bb326c0b3ef')\"\n",
              "            title=\"Convert this dataframe to an interactive table.\"\n",
              "            style=\"display:none;\">\n",
              "\n",
              "  <svg xmlns=\"http://www.w3.org/2000/svg\" height=\"24px\" viewBox=\"0 -960 960 960\">\n",
              "    <path d=\"M120-120v-720h720v720H120Zm60-500h600v-160H180v160Zm220 220h160v-160H400v160Zm0 220h160v-160H400v160ZM180-400h160v-160H180v160Zm440 0h160v-160H620v160ZM180-180h160v-160H180v160Zm440 0h160v-160H620v160Z\"/>\n",
              "  </svg>\n",
              "    </button>\n",
              "\n",
              "  <style>\n",
              "    .colab-df-container {\n",
              "      display:flex;\n",
              "      gap: 12px;\n",
              "    }\n",
              "\n",
              "    .colab-df-convert {\n",
              "      background-color: #E8F0FE;\n",
              "      border: none;\n",
              "      border-radius: 50%;\n",
              "      cursor: pointer;\n",
              "      display: none;\n",
              "      fill: #1967D2;\n",
              "      height: 32px;\n",
              "      padding: 0 0 0 0;\n",
              "      width: 32px;\n",
              "    }\n",
              "\n",
              "    .colab-df-convert:hover {\n",
              "      background-color: #E2EBFA;\n",
              "      box-shadow: 0px 1px 2px rgba(60, 64, 67, 0.3), 0px 1px 3px 1px rgba(60, 64, 67, 0.15);\n",
              "      fill: #174EA6;\n",
              "    }\n",
              "\n",
              "    .colab-df-buttons div {\n",
              "      margin-bottom: 4px;\n",
              "    }\n",
              "\n",
              "    [theme=dark] .colab-df-convert {\n",
              "      background-color: #3B4455;\n",
              "      fill: #D2E3FC;\n",
              "    }\n",
              "\n",
              "    [theme=dark] .colab-df-convert:hover {\n",
              "      background-color: #434B5C;\n",
              "      box-shadow: 0px 1px 3px 1px rgba(0, 0, 0, 0.15);\n",
              "      filter: drop-shadow(0px 1px 2px rgba(0, 0, 0, 0.3));\n",
              "      fill: #FFFFFF;\n",
              "    }\n",
              "  </style>\n",
              "\n",
              "    <script>\n",
              "      const buttonEl =\n",
              "        document.querySelector('#df-3307212d-6520-49b9-8762-0bb326c0b3ef button.colab-df-convert');\n",
              "      buttonEl.style.display =\n",
              "        google.colab.kernel.accessAllowed ? 'block' : 'none';\n",
              "\n",
              "      async function convertToInteractive(key) {\n",
              "        const element = document.querySelector('#df-3307212d-6520-49b9-8762-0bb326c0b3ef');\n",
              "        const dataTable =\n",
              "          await google.colab.kernel.invokeFunction('convertToInteractive',\n",
              "                                                    [key], {});\n",
              "        if (!dataTable) return;\n",
              "\n",
              "        const docLinkHtml = 'Like what you see? Visit the ' +\n",
              "          '<a target=\"_blank\" href=https://colab.research.google.com/notebooks/data_table.ipynb>data table notebook</a>'\n",
              "          + ' to learn more about interactive tables.';\n",
              "        element.innerHTML = '';\n",
              "        dataTable['output_type'] = 'display_data';\n",
              "        await google.colab.output.renderOutput(dataTable, element);\n",
              "        const docLink = document.createElement('div');\n",
              "        docLink.innerHTML = docLinkHtml;\n",
              "        element.appendChild(docLink);\n",
              "      }\n",
              "    </script>\n",
              "  </div>\n",
              "\n",
              "\n",
              "<div id=\"df-0bb1c4a5-d11e-4730-9d18-53bcb63ccf22\">\n",
              "  <button class=\"colab-df-quickchart\" onclick=\"quickchart('df-0bb1c4a5-d11e-4730-9d18-53bcb63ccf22')\"\n",
              "            title=\"Suggest charts\"\n",
              "            style=\"display:none;\">\n",
              "\n",
              "<svg xmlns=\"http://www.w3.org/2000/svg\" height=\"24px\"viewBox=\"0 0 24 24\"\n",
              "     width=\"24px\">\n",
              "    <g>\n",
              "        <path d=\"M19 3H5c-1.1 0-2 .9-2 2v14c0 1.1.9 2 2 2h14c1.1 0 2-.9 2-2V5c0-1.1-.9-2-2-2zM9 17H7v-7h2v7zm4 0h-2V7h2v10zm4 0h-2v-4h2v4z\"/>\n",
              "    </g>\n",
              "</svg>\n",
              "  </button>\n",
              "\n",
              "<style>\n",
              "  .colab-df-quickchart {\n",
              "      --bg-color: #E8F0FE;\n",
              "      --fill-color: #1967D2;\n",
              "      --hover-bg-color: #E2EBFA;\n",
              "      --hover-fill-color: #174EA6;\n",
              "      --disabled-fill-color: #AAA;\n",
              "      --disabled-bg-color: #DDD;\n",
              "  }\n",
              "\n",
              "  [theme=dark] .colab-df-quickchart {\n",
              "      --bg-color: #3B4455;\n",
              "      --fill-color: #D2E3FC;\n",
              "      --hover-bg-color: #434B5C;\n",
              "      --hover-fill-color: #FFFFFF;\n",
              "      --disabled-bg-color: #3B4455;\n",
              "      --disabled-fill-color: #666;\n",
              "  }\n",
              "\n",
              "  .colab-df-quickchart {\n",
              "    background-color: var(--bg-color);\n",
              "    border: none;\n",
              "    border-radius: 50%;\n",
              "    cursor: pointer;\n",
              "    display: none;\n",
              "    fill: var(--fill-color);\n",
              "    height: 32px;\n",
              "    padding: 0;\n",
              "    width: 32px;\n",
              "  }\n",
              "\n",
              "  .colab-df-quickchart:hover {\n",
              "    background-color: var(--hover-bg-color);\n",
              "    box-shadow: 0 1px 2px rgba(60, 64, 67, 0.3), 0 1px 3px 1px rgba(60, 64, 67, 0.15);\n",
              "    fill: var(--button-hover-fill-color);\n",
              "  }\n",
              "\n",
              "  .colab-df-quickchart-complete:disabled,\n",
              "  .colab-df-quickchart-complete:disabled:hover {\n",
              "    background-color: var(--disabled-bg-color);\n",
              "    fill: var(--disabled-fill-color);\n",
              "    box-shadow: none;\n",
              "  }\n",
              "\n",
              "  .colab-df-spinner {\n",
              "    border: 2px solid var(--fill-color);\n",
              "    border-color: transparent;\n",
              "    border-bottom-color: var(--fill-color);\n",
              "    animation:\n",
              "      spin 1s steps(1) infinite;\n",
              "  }\n",
              "\n",
              "  @keyframes spin {\n",
              "    0% {\n",
              "      border-color: transparent;\n",
              "      border-bottom-color: var(--fill-color);\n",
              "      border-left-color: var(--fill-color);\n",
              "    }\n",
              "    20% {\n",
              "      border-color: transparent;\n",
              "      border-left-color: var(--fill-color);\n",
              "      border-top-color: var(--fill-color);\n",
              "    }\n",
              "    30% {\n",
              "      border-color: transparent;\n",
              "      border-left-color: var(--fill-color);\n",
              "      border-top-color: var(--fill-color);\n",
              "      border-right-color: var(--fill-color);\n",
              "    }\n",
              "    40% {\n",
              "      border-color: transparent;\n",
              "      border-right-color: var(--fill-color);\n",
              "      border-top-color: var(--fill-color);\n",
              "    }\n",
              "    60% {\n",
              "      border-color: transparent;\n",
              "      border-right-color: var(--fill-color);\n",
              "    }\n",
              "    80% {\n",
              "      border-color: transparent;\n",
              "      border-right-color: var(--fill-color);\n",
              "      border-bottom-color: var(--fill-color);\n",
              "    }\n",
              "    90% {\n",
              "      border-color: transparent;\n",
              "      border-bottom-color: var(--fill-color);\n",
              "    }\n",
              "  }\n",
              "</style>\n",
              "\n",
              "  <script>\n",
              "    async function quickchart(key) {\n",
              "      const quickchartButtonEl =\n",
              "        document.querySelector('#' + key + ' button');\n",
              "      quickchartButtonEl.disabled = true;  // To prevent multiple clicks.\n",
              "      quickchartButtonEl.classList.add('colab-df-spinner');\n",
              "      try {\n",
              "        const charts = await google.colab.kernel.invokeFunction(\n",
              "            'suggestCharts', [key], {});\n",
              "      } catch (error) {\n",
              "        console.error('Error during call to suggestCharts:', error);\n",
              "      }\n",
              "      quickchartButtonEl.classList.remove('colab-df-spinner');\n",
              "      quickchartButtonEl.classList.add('colab-df-quickchart-complete');\n",
              "    }\n",
              "    (() => {\n",
              "      let quickchartButtonEl =\n",
              "        document.querySelector('#df-0bb1c4a5-d11e-4730-9d18-53bcb63ccf22 button');\n",
              "      quickchartButtonEl.style.display =\n",
              "        google.colab.kernel.accessAllowed ? 'block' : 'none';\n",
              "    })();\n",
              "  </script>\n",
              "</div>\n",
              "\n",
              "    </div>\n",
              "  </div>\n"
            ],
            "application/vnd.google.colaboratory.intrinsic+json": {
              "type": "dataframe",
              "summary": "{\n  \"name\": \"df_combined\",\n  \"rows\": 6,\n  \"fields\": [\n    {\n      \"column\": \"count\",\n      \"properties\": {\n        \"dtype\": \"number\",\n        \"std\": 0.0,\n        \"min\": 10000.0,\n        \"max\": 10000.0,\n        \"num_unique_values\": 1,\n        \"samples\": [\n          10000.0\n        ],\n        \"semantic_type\": \"\",\n        \"description\": \"\"\n      }\n    },\n    {\n      \"column\": \"mean\",\n      \"properties\": {\n        \"dtype\": \"number\",\n        \"std\": 581.0348479014938,\n        \"min\": 0.0339,\n        \"max\": 1538.7761,\n        \"num_unique_values\": 6,\n        \"samples\": [\n          300.00493\n        ],\n        \"semantic_type\": \"\",\n        \"description\": \"\"\n      }\n    },\n    {\n      \"column\": \"std\",\n      \"properties\": {\n        \"dtype\": \"number\",\n        \"std\": 71.17402283549671,\n        \"min\": 0.18098084265065364,\n        \"max\": 179.2840959134266,\n        \"num_unique_values\": 6,\n        \"samples\": [\n          2.000258682915751\n        ],\n        \"semantic_type\": \"\",\n        \"description\": \"\"\n      }\n    },\n    {\n      \"column\": \"min\",\n      \"properties\": {\n        \"dtype\": \"number\",\n        \"std\": 451.9047938080173,\n        \"min\": 0.0,\n        \"max\": 1168.0,\n        \"num_unique_values\": 5,\n        \"samples\": [\n          305.7\n        ],\n        \"semantic_type\": \"\",\n        \"description\": \"\"\n      }\n    },\n    {\n      \"column\": \"25%\",\n      \"properties\": {\n        \"dtype\": \"number\",\n        \"std\": 541.6135685769575,\n        \"min\": 0.0,\n        \"max\": 1423.0,\n        \"num_unique_values\": 6,\n        \"samples\": [\n          298.3\n        ],\n        \"semantic_type\": \"\",\n        \"description\": \"\"\n      }\n    },\n    {\n      \"column\": \"50%\",\n      \"properties\": {\n        \"dtype\": \"number\",\n        \"std\": 566.7903930613738,\n        \"min\": 0.0,\n        \"max\": 1503.0,\n        \"num_unique_values\": 6,\n        \"samples\": [\n          300.1\n        ],\n        \"semantic_type\": \"\",\n        \"description\": \"\"\n      }\n    },\n    {\n      \"column\": \"75%\",\n      \"properties\": {\n        \"dtype\": \"number\",\n        \"std\": 604.6085962560131,\n        \"min\": 0.0,\n        \"max\": 1612.0,\n        \"num_unique_values\": 6,\n        \"samples\": [\n          301.5\n        ],\n        \"semantic_type\": \"\",\n        \"description\": \"\"\n      }\n    },\n    {\n      \"column\": \"max\",\n      \"properties\": {\n        \"dtype\": \"number\",\n        \"std\": 1108.060279497465,\n        \"min\": 1.0,\n        \"max\": 2886.0,\n        \"num_unique_values\": 6,\n        \"samples\": [\n          304.5\n        ],\n        \"semantic_type\": \"\",\n        \"description\": \"\"\n      }\n    }\n  ]\n}"
            }
          },
          "metadata": {},
          "execution_count": 142
        }
      ]
    },
    {
      "cell_type": "code",
      "source": [
        "import pandas as pd\n",
        "import matplotlib.pyplot as plt\n",
        "from sklearn.feature_selection import SelectKBest, chi2\n",
        "import numpy as np\n",
        "\n",
        "# Feature Selection\n",
        "best_features = SelectKBest(score_func=chi2, k='all')\n",
        "\n",
        "X = df_combined.iloc[:, :-1]\n",
        "y = df_combined.iloc[:, -1]\n",
        "fit = best_features.fit(X, y)\n",
        "\n",
        "df_combined_scores = pd.DataFrame(fit.scores_)\n",
        "df_combined_col = pd.DataFrame(X.columns)\n",
        "\n",
        "feature_score = pd.concat([df_combined_col, df_combined_scores], axis=1)\n",
        "feature_score.columns = ['feature', 'score']\n",
        "feature_score.sort_values(by=['score'], ascending=True, inplace=True)\n",
        "\n",
        "# Membuat warna gradasi\n",
        "colors = plt.cm.viridis(np.linspace(0, 1, 21))\n",
        "\n",
        "# Membuat bar plot horizontal menggunakan matplotlib\n",
        "plt.figure(figsize=(10, 8))\n",
        "plt.barh(feature_score['feature'][0:21], feature_score['score'][0:21], color=colors)\n",
        "plt.xlabel('Score')\n",
        "plt.ylabel('Feature')\n",
        "plt.title('Top 20 Features')\n",
        "plt.grid(True, linestyle='--', linewidth=0.5)\n",
        "plt.show()"
      ],
      "metadata": {
        "colab": {
          "base_uri": "https://localhost:8080/",
          "height": 718
        },
        "id": "3N-0rVhz68qy",
        "outputId": "07a53d90-f035-45ce-bc38-ce20fcb73631"
      },
      "execution_count": 157,
      "outputs": [
        {
          "output_type": "display_data",
          "data": {
            "text/plain": [
              "<Figure size 1000x800 with 1 Axes>"
            ],
            "image/png": "[encoded data removed]"
          },
          "metadata": {}
        }
      ]
    },
    {
      "cell_type": "code",
      "source": [
        "Selected_Features = []\n",
        "import statsmodels.api as sm\n",
        "\n",
        "def backward_regression(X, y, initial_list=[], threshold_out=0.5, verbose=True):\n",
        "    included = list(X.columns)\n",
        "    while True:\n",
        "        changed = False\n",
        "        model = sm.OLS(y, sm.add_constant(pd.DataFrame(X[included]))).fit()\n",
        "        # use all coefs except intercept\n",
        "        pvalues = model.pvalues.iloc[1:]\n",
        "        worst_pval = pvalues.max()  # null if pvalues is empty\n",
        "        if worst_pval > threshold_out:\n",
        "            changed = True\n",
        "            worst_feature = pvalues.idxmax()\n",
        "            included.remove(worst_feature)\n",
        "            if verbose:\n",
        "                print(f\"worst_feature : {worst_feature}, {worst_pval} \")\n",
        "        if not changed:\n",
        "            break\n",
        "    Selected_Features.append(included)\n",
        "    print(f\"\\nSelected Features:\\n{Selected_Features[0]}\")\n",
        "\n",
        "\n",
        "# Application of the backward regression function on our training data\n",
        "backward_regression(X, y)"
      ],
      "metadata": {
        "colab": {
          "base_uri": "https://localhost:8080/"
        },
        "id": "5GD6CwNZ7RqY",
        "outputId": "c737e7cb-51f8-4b0c-8e03-3b0f413f5aaa"
      },
      "execution_count": 144,
      "outputs": [
        {
          "output_type": "stream",
          "name": "stdout",
          "text": [
            "\n",
            "Selected Features:\n",
            "['Air temperature', 'Process temperature', 'Rotational speed', 'Torque', 'Tool wear']\n"
          ]
        }
      ]
    },
    {
      "cell_type": "code",
      "source": [
        "X = df_combined.iloc[:,:-1]\n",
        "y = df_combined.iloc[:,-1]"
      ],
      "metadata": {
        "id": "V9fbaNdB7a4A"
      },
      "execution_count": 145,
      "outputs": []
    },
    {
      "cell_type": "code",
      "source": [
        "X.head()\n",
        "feature_names = list(X.columns)\n",
        "np.shape(X)"
      ],
      "metadata": {
        "colab": {
          "base_uri": "https://localhost:8080/"
        },
        "id": "i4wXKqi07hFr",
        "outputId": "2bf2a821-0126-40b3-e9e3-d63192738e31"
      },
      "execution_count": 146,
      "outputs": [
        {
          "output_type": "execute_result",
          "data": {
            "text/plain": [
              "(10000, 5)"
            ]
          },
          "metadata": {},
          "execution_count": 146
        }
      ]
    },
    {
      "cell_type": "code",
      "source": [
        "np.shape(X)"
      ],
      "metadata": {
        "colab": {
          "base_uri": "https://localhost:8080/"
        },
        "id": "47OjSwFU7kr7",
        "outputId": "9c8d4a9a-639e-45ba-d62f-8af565576d85"
      },
      "execution_count": 147,
      "outputs": [
        {
          "output_type": "execute_result",
          "data": {
            "text/plain": [
              "(10000, 5)"
            ]
          },
          "metadata": {},
          "execution_count": 147
        }
      ]
    },
    {
      "cell_type": "code",
      "source": [
        "len(feature_names)"
      ],
      "metadata": {
        "colab": {
          "base_uri": "https://localhost:8080/"
        },
        "id": "tlxNxxE77lxh",
        "outputId": "e1f4ae4f-25d3-4067-aba6-19bcc742ba60"
      },
      "execution_count": 148,
      "outputs": [
        {
          "output_type": "execute_result",
          "data": {
            "text/plain": [
              "5"
            ]
          },
          "metadata": {},
          "execution_count": 148
        }
      ]
    },
    {
      "cell_type": "markdown",
      "source": [
        "Modelling and Evaluation"
      ],
      "metadata": {
        "id": "WFB0dhuZ7qjf"
      }
    },
    {
      "cell_type": "code",
      "source": [
        "# import library\n",
        "from imblearn.over_sampling import SMOTE, SVMSMOTE,RandomOverSampler\n",
        "oversamp = RandomOverSampler(random_state=0)"
      ],
      "metadata": {
        "id": "SV58pxN17sCK"
      },
      "execution_count": 149,
      "outputs": []
    },
    {
      "cell_type": "code",
      "source": [
        "from sklearn.model_selection import train_test_split\n",
        "X_train, X_test, y_train, y_test = train_test_split(X, y,\n",
        "                                                    test_size = 0.2,\n",
        "                                                    random_state = 0,\n",
        "                                                    stratify=y)"
      ],
      "metadata": {
        "id": "44UEqCK97xyc"
      },
      "execution_count": 150,
      "outputs": []
    },
    {
      "cell_type": "code",
      "source": [
        "from sklearn.preprocessing import MinMaxScaler\n",
        "sc = MinMaxScaler()\n",
        "X_train = sc.fit_transform(X_train)\n",
        "X_test = sc.transform(X_test)"
      ],
      "metadata": {
        "id": "n9MUFIT470nP"
      },
      "execution_count": 151,
      "outputs": []
    },
    {
      "cell_type": "code",
      "source": [
        "from sklearn.metrics import f1_score, precision_score, recall_score, accuracy_score,roc_auc_score,matthews_corrcoef\n",
        "from sklearn.metrics import ConfusionMatrixDisplay # updated import for confusion matrix display\n",
        "\n",
        "import time\n",
        "model_performance = pd.DataFrame(columns=['Accuracy','Recall','Precision','F1-Score','MCC score','time to train','time to predict','total time'])"
      ],
      "metadata": {
        "id": "-ZL1C7la73WX"
      },
      "execution_count": 152,
      "outputs": []
    },
    {
      "cell_type": "markdown",
      "source": [
        "Logistic Classification"
      ],
      "metadata": {
        "id": "C7z0GVEK8TeH"
      }
    },
    {
      "cell_type": "code",
      "source": [
        "%%time\n",
        "from sklearn.linear_model import LogisticRegression\n",
        "start = time.time()\n",
        "model = LogisticRegression().fit(X_train,y_train)\n",
        "end_train = time.time()\n",
        "y_predictions = model.predict(X_test) # These are the predictions from the test data.\n",
        "end_predict = time.time()"
      ],
      "metadata": {
        "colab": {
          "base_uri": "https://localhost:8080/"
        },
        "id": "X1H-gSA08S36",
        "outputId": "45da4723-dd08-4bb7-b322-3fc228b91112"
      },
      "execution_count": 153,
      "outputs": [
        {
          "output_type": "stream",
          "name": "stdout",
          "text": [
            "CPU times: user 36.1 ms, sys: 19.8 ms, total: 56 ms\n",
            "Wall time: 38.8 ms\n"
          ]
        }
      ]
    },
    {
      "cell_type": "code",
      "source": [
        "# Calculate metrics\n",
        "accuracy = accuracy_score(y_test, y_predictions)\n",
        "recall = recall_score(y_test, y_predictions, average='weighted')\n",
        "precision = precision_score(y_test, y_predictions, average='weighted', zero_division=0)\n",
        "f1s = f1_score(y_test, y_predictions, average='weighted')\n",
        "MCC = matthews_corrcoef(y_test, y_predictions)\n",
        "ROC_AUC = roc_auc_score(y_test, model.predict_proba(X_test)[:,1], average='weighted')\n",
        "\n",
        "# Print metrics\n",
        "print(\"Accuracy: {:.2%}\".format(accuracy))\n",
        "print(\"Recall: {:.2%}\".format(recall))\n",
        "print(\"Precision: {:.2%}\".format(precision))\n",
        "print(\"F1-Score: {:.2%}\".format(f1s))\n",
        "print(\"MCC: {:.2}\".format(MCC))\n",
        "print(\"ROC AUC score: {:.2%}\".format(ROC_AUC))\n",
        "print(\"time to train: {:.2f} s\".format(end_train-start))\n",
        "print(\"time to predict: {:.2f} s\".format(end_predict-end_train))\n",
        "print(\"total: {:.2f} s\".format(end_predict-start))\n",
        "\n",
        "# Add to performance DataFrame\n",
        "model_performance.loc['Logistic'] = [accuracy, recall, precision, f1s, MCC, end_train-start, end_predict-end_train, end_predict-start]\n"
      ],
      "metadata": {
        "colab": {
          "base_uri": "https://localhost:8080/"
        },
        "id": "NO9UiBvd8bsF",
        "outputId": "26b9e024-ba15-42f3-c460-213f944cf4e6"
      },
      "execution_count": 154,
      "outputs": [
        {
          "output_type": "stream",
          "name": "stdout",
          "text": [
            "Accuracy: 96.60%\n",
            "Recall: 96.60%\n",
            "Precision: 93.32%\n",
            "F1-Score: 94.93%\n",
            "MCC: 0.0\n",
            "ROC AUC score: 88.29%\n",
            "time to train: 0.04 s\n",
            "time to predict: 0.00 s\n",
            "total: 0.04 s\n"
          ]
        }
      ]
    },
    {
      "cell_type": "code",
      "source": [
        "import matplotlib.pyplot as plt # import matplotlib\n",
        "import seaborn as sns # import seaborn\n",
        "\n",
        "plt.rcParams['figure.figsize']=5,5\n",
        "sns.set_style(\"white\")\n",
        "# Use ConfusionMatrixDisplay.from_estimator()\n",
        "ConfusionMatrixDisplay.from_estimator(model, X_test, y_test, cmap=plt.cm.Blues)\n",
        "plt.show()"
      ],
      "metadata": {
        "colab": {
          "base_uri": "https://localhost:8080/",
          "height": 430
        },
        "id": "P0qgOOtF8haf",
        "outputId": "8c33116c-4b99-43b6-e0c4-3283bf3beb42"
      },
      "execution_count": 155,
      "outputs": [
        {
          "output_type": "display_data",
          "data": {
            "text/plain": [
              "<Figure size 500x500 with 2 Axes>"
            ],
            "image/png": "[encoded data removed]"
          },
          "metadata": {}
        }
      ]
    },
    {
      "cell_type": "markdown",
      "source": [
        "Evaluate"
      ],
      "metadata": {
        "id": "7K9EJjcr8_fy"
      }
    },
    {
      "cell_type": "code",
      "source": [
        "model_performance.fillna(.90,inplace=True)\n",
        "model_performance.style.background_gradient(cmap='coolwarm').format({'Accuracy': '{:.2%}',\n",
        "                                                                     'Precision': '{:.2%}',\n",
        "                                                                     'Recall': '{:.2%}',\n",
        "                                                                     'F1-Score': '{:.2%}',\n",
        "                                                                     'MCC score': '{:.2%}',\n",
        "                                                                     'time to train':'{:.1f}',\n",
        "                                                                     'time to predict':'{:.1f}',\n",
        "                                                                     'total time':'{:.1f}',\n",
        "                                                                     })"
      ],
      "metadata": {
        "colab": {
          "base_uri": "https://localhost:8080/",
          "height": 81
        },
        "id": "Nk7Af9he9Bed",
        "outputId": "50a79f0b-4ff0-4730-e646-863358bd7013"
      },
      "execution_count": 156,
      "outputs": [
        {
          "output_type": "execute_result",
          "data": {
            "text/plain": [
              "<pandas.io.formats.style.Styler at 0x7bbd9b10c7c0>"
            ],
            "text/html": [
              "<style type=\"text/css\">\n",
              "#T_371c8_row0_col0, #T_371c8_row0_col1, #T_371c8_row0_col2, #T_371c8_row0_col3, #T_371c8_row0_col4, #T_371c8_row0_col5, #T_371c8_row0_col6, #T_371c8_row0_col7 {\n",
              "  background-color: #3b4cc0;\n",
              "  color: #f1f1f1;\n",
              "}\n",
              "</style>\n",
              "<table id=\"T_371c8\" class=\"dataframe\">\n",
              "  <thead>\n",
              "    <tr>\n",
              "      <th class=\"blank level0\" >&nbsp;</th>\n",
              "      <th id=\"T_371c8_level0_col0\" class=\"col_heading level0 col0\" >Accuracy</th>\n",
              "      <th id=\"T_371c8_level0_col1\" class=\"col_heading level0 col1\" >Recall</th>\n",
              "      <th id=\"T_371c8_level0_col2\" class=\"col_heading level0 col2\" >Precision</th>\n",
              "      <th id=\"T_371c8_level0_col3\" class=\"col_heading level0 col3\" >F1-Score</th>\n",
              "      <th id=\"T_371c8_level0_col4\" class=\"col_heading level0 col4\" >MCC score</th>\n",
              "      <th id=\"T_371c8_level0_col5\" class=\"col_heading level0 col5\" >time to train</th>\n",
              "      <th id=\"T_371c8_level0_col6\" class=\"col_heading level0 col6\" >time to predict</th>\n",
              "      <th id=\"T_371c8_level0_col7\" class=\"col_heading level0 col7\" >total time</th>\n",
              "    </tr>\n",
              "  </thead>\n",
              "  <tbody>\n",
              "    <tr>\n",
              "      <th id=\"T_371c8_level0_row0\" class=\"row_heading level0 row0\" >Logistic</th>\n",
              "      <td id=\"T_371c8_row0_col0\" class=\"data row0 col0\" >96.60%</td>\n",
              "      <td id=\"T_371c8_row0_col1\" class=\"data row0 col1\" >96.60%</td>\n",
              "      <td id=\"T_371c8_row0_col2\" class=\"data row0 col2\" >93.32%</td>\n",
              "      <td id=\"T_371c8_row0_col3\" class=\"data row0 col3\" >94.93%</td>\n",
              "      <td id=\"T_371c8_row0_col4\" class=\"data row0 col4\" >0.00%</td>\n",
              "      <td id=\"T_371c8_row0_col5\" class=\"data row0 col5\" >0.0</td>\n",
              "      <td id=\"T_371c8_row0_col6\" class=\"data row0 col6\" >0.0</td>\n",
              "      <td id=\"T_371c8_row0_col7\" class=\"data row0 col7\" >0.0</td>\n",
              "    </tr>\n",
              "  </tbody>\n",
              "</table>\n"
            ]
          },
          "metadata": {},
          "execution_count": 156
        }
      ]
    }
  ]
}